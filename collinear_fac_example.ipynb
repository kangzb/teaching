{
  "nbformat": 4,
  "nbformat_minor": 0,
  "metadata": {
    "colab": {
      "provenance": [],
      "include_colab_link": true
    },
    "kernelspec": {
      "name": "python3",
      "display_name": "Python 3"
    },
    "language_info": {
      "name": "python"
    }
  },
  "cells": [
    {
      "cell_type": "markdown",
      "metadata": {
        "id": "view-in-github",
        "colab_type": "text"
      },
      "source": [
        "<a href=\"https://colab.research.google.com/github/kangzb/teaching/blob/main/collinear_fac_example.ipynb\" target=\"_parent\"><img src=\"https://colab.research.google.com/assets/colab-badge.svg\" alt=\"Open In Colab\"/></a>"
      ]
    },
    {
      "cell_type": "markdown",
      "source": [
        "## Example for collinear factorization in p+p collisions\n",
        "\n",
        "In this example, we study single inclusive $\\pi^0$ production in $p+p$ collisions: $p+p\\to \\pi^0+X$. Within the collinear factorization formalism, the differential cross section can be written as follows\n",
        "\n",
        "\\begin{align}\n",
        "\\frac{d\\sigma}{dy\\,d^2p_T} = \\frac{\\alpha_s^2}{S}\\sum_{a,b,b}\\int \\frac{dx_a}{x_a} f_{a/p}(x_a, \\mu) \\int \\frac{dx_b}{x_b} f_{b/p}(x_b, \\mu) \\int \\frac{dz_c}{z_c^2} D_{\\pi^0/c}(z_c, \\mu) \\,H_{ab\\to c}(\\hat{s}, \\hat{t}, \\hat{u}) \\,\\delta(\\hat{s} + \\hat{t} + \\hat{u})\n",
        "\\end{align}\n",
        "\n",
        "### load proper packages\n",
        "\n",
        "1. We need to use LHAPDF to call collinear parton distribution functions (PDFs) $f_{a/p}(x, \\mu)$ and collinear fragmentation functions (FFs) $D_{\\pi^0/c}(z, \\mu)$. Follow their website information to install LHAPDF.\n",
        "\n",
        "2. At the same time, we also have to use VEGAS Monte Carlo integration. One can install through \"pip install vegas\" at command line"
      ],
      "metadata": {
        "id": "C5WzE1_UjIA_"
      }
    },
    {
      "cell_type": "markdown",
      "source": [
        "LHAPDF installation on Google Colab"
      ],
      "metadata": {
        "id": "I-nxDFaUjfMd"
      }
    },
    {
      "cell_type": "code",
      "source": [
        "LHAPDF_VERSION = '6.5.4'\n",
        "SITE_PACKGE_DIR = __import__('site').getsitepackages()[0]\n",
        "PWD = __import__('os').getcwd()\n",
        "PYTHON_VERSION = '%s.%s' % __import__('sys').version_info[0:2]\n",
        "!wget https://lhapdf.hepforge.org/downloads/?f=LHAPDF-{LHAPDF_VERSION}.tar.gz -O LHAPDF-{LHAPDF_VERSION}.tar.gz\n",
        "!tar xf LHAPDF-{LHAPDF_VERSION}.tar.gz\n",
        "!cd LHAPDF-{LHAPDF_VERSION} && ./configure\n",
        "!make -C LHAPDF-{LHAPDF_VERSION} -j 2\n",
        "!make -C LHAPDF-{LHAPDF_VERSION} install\n",
        "!cd {SITE_PACKGE_DIR} && ln -s {PWD}/LHAPDF-{LHAPDF_VERSION}/wrappers/python/NONE/local/lib/python{PYTHON_VERSION}/dist-packages/lhapdf\n",
        "!cd /usr/lib && ln -s {PWD}/LHAPDF-{LHAPDF_VERSION}/src/.libs/libLHAPDF.so\n",
        "!lhapdf update"
      ],
      "metadata": {
        "colab": {
          "base_uri": "https://localhost:8080/"
        },
        "id": "X-pIjbT8js1U",
        "outputId": "6a969be5-2e73-4367-8068-b03c8fdd2e01"
      },
      "execution_count": 1,
      "outputs": [
        {
          "output_type": "stream",
          "name": "stdout",
          "text": [
            "--2025-05-29 19:53:59--  https://lhapdf.hepforge.org/downloads/?f=LHAPDF-6.5.4.tar.gz\n",
            "Resolving lhapdf.hepforge.org (lhapdf.hepforge.org)... 129.234.186.186\n",
            "Connecting to lhapdf.hepforge.org (lhapdf.hepforge.org)|129.234.186.186|:443... connected.\n",
            "HTTP request sent, awaiting response... 302 Found\n",
            "Location: /downloader?f=LHAPDF-6.5.4.tar.gz [following]\n",
            "--2025-05-29 19:54:00--  https://lhapdf.hepforge.org/downloader?f=LHAPDF-6.5.4.tar.gz\n",
            "Reusing existing connection to lhapdf.hepforge.org:443.\n",
            "HTTP request sent, awaiting response... 200 OK\n",
            "Length: unspecified [application/x-gzip]\n",
            "Saving to: ‘LHAPDF-6.5.4.tar.gz’\n",
            "\n",
            "LHAPDF-6.5.4.tar.gz     [   <=>              ] 849.32K  1.65MB/s    in 0.5s    \n",
            "\n",
            "2025-05-29 19:54:01 (1.65 MB/s) - ‘LHAPDF-6.5.4.tar.gz’ saved [869707]\n",
            "\n",
            "checking for a BSD-compatible install... /usr/bin/install -c\n",
            "checking whether build environment is sane... yes\n",
            "checking for a race-free mkdir -p... /usr/bin/mkdir -p\n",
            "checking for gawk... no\n",
            "checking for mawk... mawk\n",
            "checking whether make sets $(MAKE)... yes\n",
            "checking whether make supports nested variables... yes\n",
            "checking whether make supports nested variables... (cached) yes\n",
            "checking for sw_vers... no\n",
            "checking whether make supports the include directive... yes (GNU style)\n",
            "checking whether to compile using MPI... no\n",
            "checking for g++... g++\n",
            "checking whether the C++ compiler works... yes\n",
            "checking for C++ compiler default output file name... a.out\n",
            "checking for suffix of executables... \n",
            "checking whether we are cross compiling... no\n",
            "checking for suffix of object files... o\n",
            "checking whether the compiler supports GNU C++... yes\n",
            "checking whether g++ accepts -g... yes\n",
            "checking for g++ option to enable C++11 features... none needed\n",
            "checking dependency style of g++... gcc3\n",
            "checking whether g++ supports C++11 features by default... yes\n",
            "checking for gcc... gcc\n",
            "checking whether the compiler supports GNU C... yes\n",
            "checking whether gcc accepts -g... yes\n",
            "checking for gcc option to enable C11 features... none needed\n",
            "checking whether gcc understands -c and -o together... yes\n",
            "checking dependency style of gcc... gcc3\n",
            "checking whether ln -s works... yes\n",
            "checking build system type... x86_64-pc-linux-gnu\n",
            "checking host system type... x86_64-pc-linux-gnu\n",
            "checking how to print strings... printf\n",
            "checking for a sed that does not truncate output... /usr/bin/sed\n",
            "checking for grep that handles long lines and -e... /usr/bin/grep\n",
            "checking for egrep... /usr/bin/grep -E\n",
            "checking for fgrep... /usr/bin/grep -F\n",
            "checking for ld used by gcc... /usr/bin/ld\n",
            "checking if the linker (/usr/bin/ld) is GNU ld... yes\n",
            "checking for BSD- or MS-compatible name lister (nm)... /usr/bin/nm -B\n",
            "checking the name lister (/usr/bin/nm -B) interface... BSD nm\n",
            "checking the maximum length of command line arguments... 1572864\n",
            "checking how to convert x86_64-pc-linux-gnu file names to x86_64-pc-linux-gnu format... func_convert_file_noop\n",
            "checking how to convert x86_64-pc-linux-gnu file names to toolchain format... func_convert_file_noop\n",
            "checking for /usr/bin/ld option to reload object files... -r\n",
            "checking for file... file\n",
            "checking for objdump... objdump\n",
            "checking how to recognize dependent libraries... pass_all\n",
            "checking for dlltool... no\n",
            "checking how to associate runtime and link libraries... printf %s\\n\n",
            "checking for ar... ar\n",
            "checking for archiver @FILE support... @\n",
            "checking for strip... strip\n",
            "checking for ranlib... ranlib\n",
            "checking command to parse /usr/bin/nm -B output from gcc object... ok\n",
            "checking for sysroot... no\n",
            "checking for a working dd... /usr/bin/dd\n",
            "checking how to truncate binary pipes... /usr/bin/dd bs=4096 count=1\n",
            "checking for mt... no\n",
            "checking if : is a manifest tool... no\n",
            "checking for stdio.h... yes\n",
            "checking for stdlib.h... yes\n",
            "checking for string.h... yes\n",
            "checking for inttypes.h... yes\n",
            "checking for stdint.h... yes\n",
            "checking for strings.h... yes\n",
            "checking for sys/stat.h... yes\n",
            "checking for sys/types.h... yes\n",
            "checking for unistd.h... yes\n",
            "checking for dlfcn.h... yes\n",
            "checking for objdir... .libs\n",
            "checking if gcc supports -fno-rtti -fno-exceptions... no\n",
            "checking for gcc option to produce PIC... -fPIC -DPIC\n",
            "checking if gcc PIC flag -fPIC -DPIC works... yes\n",
            "checking if gcc static flag -static works... yes\n",
            "checking if gcc supports -c -o file.o... yes\n",
            "checking if gcc supports -c -o file.o... (cached) yes\n",
            "checking whether the gcc linker (/usr/bin/ld -m elf_x86_64) supports shared libraries... yes\n",
            "checking whether -lc should be explicitly linked in... no\n",
            "checking dynamic linker characteristics... GNU/Linux ld.so\n",
            "checking how to hardcode library paths into programs... immediate\n",
            "checking whether stripping libraries is possible... yes\n",
            "checking if libtool supports shared libraries... yes\n",
            "checking whether to build shared libraries... yes\n",
            "checking whether to build static libraries... yes\n",
            "checking how to run the C++ preprocessor... g++ -E\n",
            "checking for ld used by g++... /usr/bin/ld -m elf_x86_64\n",
            "checking if the linker (/usr/bin/ld -m elf_x86_64) is GNU ld... yes\n",
            "checking whether the g++ linker (/usr/bin/ld -m elf_x86_64) supports shared libraries... yes\n",
            "checking for g++ option to produce PIC... -fPIC -DPIC\n",
            "checking if g++ PIC flag -fPIC -DPIC works... yes\n",
            "checking if g++ static flag -static works... yes\n",
            "checking if g++ supports -c -o file.o... yes\n",
            "checking if g++ supports -c -o file.o... (cached) yes\n",
            "checking whether the g++ linker (/usr/bin/ld -m elf_x86_64) supports shared libraries... yes\n",
            "checking dynamic linker characteristics... (cached) GNU/Linux ld.so\n",
            "checking how to hardcode library paths into programs... immediate\n",
            "configure: building LHAGLUE Fortran wrappers\n",
            "configure: building LHAGLUE C++ wrappers\n",
            "checking for doxygen... no\n",
            "checking for python... /usr/local/bin/python\n",
            "checking for a version of Python >= '2.1.0'... yes\n",
            "checking for a version of Python >= '2.7.3'... yes\n",
            "checking for the sysconfig Python package... yes\n",
            "checking for Python include path... -I/usr/include/python3.11\n",
            "checking for Python library path... -L/usr/lib/x86_64-linux-gnu -lpython3.11\n",
            "checking for Python site-packages path... /usr/local/lib/python3.11/dist-packages\n",
            "checking for Python platform specific site-packages path... \n",
            "checking python extra libraries... -ldl -lm\n",
            "checking python extra linking flags... -Xlinker -export-dynamic -Wl,-O1 -Wl,-Bsymbolic-functions\n",
            "checking consistency of all components of python development environment... yes\n",
            "configure: LHAPDF Python library to be installed to NONE/local/lib/python3.11/dist-packages\n",
            "checking for python version... 3.11\n",
            "checking for python platform... linux\n",
            "checking for GNU default python prefix... ${prefix}\n",
            "checking for GNU default python exec_prefix... ${exec_prefix}\n",
            "checking for python script directory (pythondir)... ${PYTHON_PREFIX}/local/lib/python3.11/dist-packages\n",
            "checking for python extension module directory (pyexecdir)... ${PYTHON_EXEC_PREFIX}/local/lib/python3.11/dist-packages\n",
            "checking for Cython >= 0.24... yes\n",
            "configure: Cython >= 0.24 found: Python extension source can be rebuilt (for developers)\n",
            "checking if the g++ compiler accepts the -pedantic flag... yes\n",
            "checking if the g++ compiler accepts the -Wall flag... yes\n",
            "checking if the g++ compiler accepts the -Wno-long-long flag... yes\n",
            "checking if the g++ compiler accepts the -Qunused-arguments flag... no\n",
            "checking if the g++ compiler accepts the -Wshadow flag... yes\n",
            "checking that generated files are newer than configure... done\n",
            "configure: creating ./config.status\n",
            "config.status: creating Makefile\n",
            "config.status: creating src/Makefile\n",
            "config.status: creating src/yamlcpp/Makefile\n",
            "config.status: creating include/Makefile\n",
            "config.status: creating include/LHAPDF/Makefile\n",
            "config.status: creating bin/Makefile\n",
            "config.status: creating bin/lhapdf-config\n",
            "config.status: creating examples/Makefile\n",
            "config.status: creating tests/Makefile\n",
            "config.status: creating doc/Makefile\n",
            "config.status: creating doc/Doxyfile\n",
            "config.status: creating lhapdf.pc\n",
            "config.status: creating wrappers/Makefile\n",
            "config.status: creating wrappers/python/Makefile\n",
            "config.status: creating wrappers/python/build.py\n",
            "config.status: creating config/config.h\n",
            "config.status: creating include/LHAPDF/Version.h\n",
            "config.status: include/LHAPDF/Version.h is unchanged\n",
            "config.status: executing depfiles commands\n",
            "config.status: executing libtool commands\n",
            "\n",
            "****************************************************************\n",
            "IMPORTANT INFORMATION ABOUT PDF SETS\n",
            "\n",
            "LHAPDF no longer bundles PDF set data in the package tarball.\n",
            "The sets are instead all stored online at\n",
            "  http://lhapdfsets.web.cern.ch/lhapdfsets/current/\n",
            "and you should install those that you wish to use into\n",
            "  /usr/local/share/LHAPDF\n",
            "\n",
            "The downloadable PDF sets are packaged as tarballs, which\n",
            "must be expanded to be used. The simplest way to do this is with\n",
            "the 'lhapdf' script, e.g. to install the CT10nlo PDF set:\n",
            "  lhapdf install CT10nlo\n",
            "The same effect can be achieved manually with, e.g.:\n",
            "  wget http://lhapdfsets.web.cern.ch/lhapdfsets/current/CT10nlo.tar.gz -O- | tar xz -C /usr/local/share/LHAPDF\n",
            "\n",
            "****************************************************************\n",
            "\n",
            "make: Entering directory '/content/LHAPDF-6.5.4'\n",
            "Making all in src\n",
            "make[1]: Entering directory '/content/LHAPDF-6.5.4/src'\n",
            "Making all in yamlcpp\n",
            "make[2]: Entering directory '/content/LHAPDF-6.5.4/src/yamlcpp'\n",
            "  CXX      liblhapdf_yaml_cpp_la-binary.lo\n",
            "  CXX      liblhapdf_yaml_cpp_la-emitterstate.lo\n",
            "  CXX      liblhapdf_yaml_cpp_la-node.lo\n",
            "  CXX      liblhapdf_yaml_cpp_la-parser.lo\n",
            "  CXX      liblhapdf_yaml_cpp_la-simplekey.lo\n",
            "  CXX      liblhapdf_yaml_cpp_la-convert.lo\n",
            "  CXX      liblhapdf_yaml_cpp_la-emitterutils.lo\n",
            "  CXX      liblhapdf_yaml_cpp_la-node_data.lo\n",
            "  CXX      liblhapdf_yaml_cpp_la-regex_yaml.lo\n",
            "  CXX      liblhapdf_yaml_cpp_la-singledocparser.lo\n",
            "  CXX      liblhapdf_yaml_cpp_la-directives.lo\n",
            "  CXX      liblhapdf_yaml_cpp_la-exceptions.lo\n",
            "  CXX      liblhapdf_yaml_cpp_la-nodeevents.lo\n",
            "  CXX      liblhapdf_yaml_cpp_la-scanner.lo\n",
            "  CXX      liblhapdf_yaml_cpp_la-stream.lo\n",
            "  CXX      liblhapdf_yaml_cpp_la-emit.lo\n",
            "  CXX      liblhapdf_yaml_cpp_la-exp.lo\n",
            "  CXX      liblhapdf_yaml_cpp_la-null.lo\n",
            "  CXX      liblhapdf_yaml_cpp_la-scanscalar.lo\n",
            "  CXX      liblhapdf_yaml_cpp_la-tag.lo\n",
            "  CXX      liblhapdf_yaml_cpp_la-emitfromevents.lo\n",
            "  CXX      liblhapdf_yaml_cpp_la-memory.lo\n",
            "  CXX      liblhapdf_yaml_cpp_la-ostream_wrapper.lo\n",
            "  CXX      liblhapdf_yaml_cpp_la-scantag.lo\n",
            "  CXX      liblhapdf_yaml_cpp_la-depthguard.lo\n",
            "  CXX      liblhapdf_yaml_cpp_la-emitter.lo\n",
            "  CXX      liblhapdf_yaml_cpp_la-nodebuilder.lo\n",
            "  CXX      liblhapdf_yaml_cpp_la-parse.lo\n",
            "  CXX      liblhapdf_yaml_cpp_la-scantoken.lo\n",
            "  CXXLD    liblhapdf-yaml-cpp.la\n",
            "make[2]: Leaving directory '/content/LHAPDF-6.5.4/src/yamlcpp'\n",
            "make[2]: Entering directory '/content/LHAPDF-6.5.4/src'\n",
            "  CXX      PDF.lo\n",
            "  CXX      PDFSet.lo\n",
            "  CXX      PDFInfo.lo\n",
            "  CXX      GridPDF.lo\n",
            "  CXX      KnotArray.lo\n",
            "  CXX      Interpolator.lo\n",
            "  CXX      BilinearInterpolator.lo\n",
            "  CXX      BicubicInterpolator.lo\n",
            "  CXX      LogBilinearInterpolator.lo\n",
            "  CXX      LogBicubicInterpolator.lo\n",
            "  CXX      ErrExtrapolator.lo\n",
            "  CXX      NearestPointExtrapolator.lo\n",
            "  CXX      ContinuationExtrapolator.lo\n",
            "  CXX      AlphaS.lo\n",
            "  CXX      AlphaS_Analytic.lo\n",
            "  CXX      AlphaS_ODE.lo\n",
            "  CXX      AlphaS_Ipol.lo\n",
            "  CXX      Config.lo\n",
            "  CXX      Factories.lo\n",
            "  CXX      PDFIndex.lo\n",
            "  CXX      Utils.lo\n",
            "  CXX      FileIO.lo\n",
            "  CXX      libLHAPDFInfo_la-Info.lo\n",
            "  CXX      libLHAPDFPaths_la-Paths.lo\n",
            "  CXX      libLHAPDFGlue_la-LHAGlue.lo\n",
            "  CXXLD    libLHAPDFInfo.la\n",
            "  CXXLD    libLHAPDFPaths.la\n",
            "  CXXLD    libLHAPDFGlue.la\n",
            "  CXXLD    libLHAPDF.la\n",
            "make[2]: Leaving directory '/content/LHAPDF-6.5.4/src'\n",
            "make[1]: Leaving directory '/content/LHAPDF-6.5.4/src'\n",
            "Making all in include\n",
            "make[1]: Entering directory '/content/LHAPDF-6.5.4/include'\n",
            "Making all in LHAPDF\n",
            "make[2]: Entering directory '/content/LHAPDF-6.5.4/include/LHAPDF'\n",
            "make  all-am\n",
            "make[3]: Entering directory '/content/LHAPDF-6.5.4/include/LHAPDF'\n",
            "make[3]: Leaving directory '/content/LHAPDF-6.5.4/include/LHAPDF'\n",
            "make[2]: Leaving directory '/content/LHAPDF-6.5.4/include/LHAPDF'\n",
            "make[2]: Entering directory '/content/LHAPDF-6.5.4/include'\n",
            "make[2]: Nothing to be done for 'all-am'.\n",
            "make[2]: Leaving directory '/content/LHAPDF-6.5.4/include'\n",
            "make[1]: Leaving directory '/content/LHAPDF-6.5.4/include'\n",
            "Making all in wrappers\n",
            "make[1]: Entering directory '/content/LHAPDF-6.5.4/wrappers'\n",
            "Making all in python\n",
            "make[2]: Entering directory '/content/LHAPDF-6.5.4/wrappers/python'\n",
            "cython ./lhapdf.pyx --cplus -2 -o lhapdf.cpp\n",
            "for i in lhapdf.cpp lhapdf.pyx clhapdf.pxd __init__.py; do \\\n",
            "  orig=\"$i\"; \\\n",
            "  build=\"$(basename $i)\"; \\\n",
            "  if [ ! -e ${build} ]; then cp ${orig} ${build}; \\\n",
            "  echo ${build} >> fix-out-of-source; fi; \\\n",
            "done\n",
            "touch fix-out-of-source\n",
            "CC=\"g++\" CXX=\"g++\" CFLAGS=\"-g -O2\" CXXFLAGS=\"-O3\" CPPFLAGS=\" -I.\" LHAPDF_LOCAL=1 /usr/local/bin/python build.py\n",
            "Build command = g++  -shared -fPIC  -o  lhapdf.so  /content/LHAPDF-6.5.4/wrappers/python/lhapdf.cpp  -I/content/LHAPDF-6.5.4/include -I/content/LHAPDF-6.5.4/include -I/usr/local/include    -O3   -L/content/LHAPDF-6.5.4/src/.libs   -lstdc++ -lLHAPDF  -I/usr/include/python3.11 /usr/lib/python3.11/config-3.11-x86_64-linux-gnu/libpython3.11.so -ldl -lm\n",
            "make[2]: Leaving directory '/content/LHAPDF-6.5.4/wrappers/python'\n",
            "make[2]: Entering directory '/content/LHAPDF-6.5.4/wrappers'\n",
            "make[2]: Nothing to be done for 'all-am'.\n",
            "make[2]: Leaving directory '/content/LHAPDF-6.5.4/wrappers'\n",
            "make[1]: Leaving directory '/content/LHAPDF-6.5.4/wrappers'\n",
            "Making all in tests\n",
            "make[1]: Entering directory '/content/LHAPDF-6.5.4/tests'\n",
            "make[1]: Nothing to be done for 'all'.\n",
            "make[1]: Leaving directory '/content/LHAPDF-6.5.4/tests'\n",
            "Making all in bin\n",
            "make[1]: Entering directory '/content/LHAPDF-6.5.4/bin'\n",
            "make[1]: Nothing to be done for 'all'.\n",
            "make[1]: Leaving directory '/content/LHAPDF-6.5.4/bin'\n",
            "Making all in examples\n",
            "make[1]: Entering directory '/content/LHAPDF-6.5.4/examples'\n",
            "  CXX      testpdf.o\n",
            "  CXX      testpdfset.o\n",
            "  CXX      analyticpdf.o\n",
            "  CXX      compatibility.o\n",
            "  CXX      testpdfunc.o\n",
            "  CXX      hessian2replicas.o\n",
            "  CXX      reweight.o\n",
            "  CXXLD    testpdf\n",
            "  CXXLD    testpdfset\n",
            "  CXXLD    analyticpdf\n",
            "  CXXLD    compatibility\n",
            "  CXXLD    testpdfunc\n",
            "  CXXLD    reweight\n",
            "  CXXLD    hessian2replicas\n",
            "make[1]: Leaving directory '/content/LHAPDF-6.5.4/examples'\n",
            "Making all in doc\n",
            "make[1]: Entering directory '/content/LHAPDF-6.5.4/doc'\n",
            "make[1]: Nothing to be done for 'all'.\n",
            "make[1]: Leaving directory '/content/LHAPDF-6.5.4/doc'\n",
            "make[1]: Entering directory '/content/LHAPDF-6.5.4'\n",
            "make[1]: Nothing to be done for 'all-am'.\n",
            "make[1]: Leaving directory '/content/LHAPDF-6.5.4'\n",
            "make: Leaving directory '/content/LHAPDF-6.5.4'\n",
            "make: Entering directory '/content/LHAPDF-6.5.4'\n",
            "Making install in src\n",
            "make[1]: Entering directory '/content/LHAPDF-6.5.4/src'\n",
            "Making install in yamlcpp\n",
            "make[2]: Entering directory '/content/LHAPDF-6.5.4/src/yamlcpp'\n",
            "make[3]: Entering directory '/content/LHAPDF-6.5.4/src/yamlcpp'\n",
            "make[3]: Nothing to be done for 'install-exec-am'.\n",
            "make[3]: Nothing to be done for 'install-data-am'.\n",
            "make[3]: Leaving directory '/content/LHAPDF-6.5.4/src/yamlcpp'\n",
            "make[2]: Leaving directory '/content/LHAPDF-6.5.4/src/yamlcpp'\n",
            "make[2]: Entering directory '/content/LHAPDF-6.5.4/src'\n",
            "make[3]: Entering directory '/content/LHAPDF-6.5.4/src'\n",
            " /usr/bin/mkdir -p '/usr/local/lib'\n",
            " /bin/bash ../libtool   --mode=install /usr/bin/install -c   libLHAPDF.la '/usr/local/lib'\n",
            "libtool: install: /usr/bin/install -c .libs/libLHAPDF.so /usr/local/lib/libLHAPDF.so\n",
            "libtool: install: /usr/bin/install -c .libs/libLHAPDF.lai /usr/local/lib/libLHAPDF.la\n",
            "libtool: install: /usr/bin/install -c .libs/libLHAPDF.a /usr/local/lib/libLHAPDF.a\n",
            "libtool: install: chmod 644 /usr/local/lib/libLHAPDF.a\n",
            "libtool: install: ranlib /usr/local/lib/libLHAPDF.a\n",
            "libtool: finish: PATH=\"/opt/bin:/usr/local/nvidia/bin:/usr/local/cuda/bin:/usr/local/sbin:/usr/local/bin:/usr/sbin:/usr/bin:/sbin:/bin:/tools/node/bin:/tools/google-cloud-sdk/bin:/sbin\" ldconfig -n /usr/local/lib\n",
            "/sbin/ldconfig.real: /usr/local/lib/libur_loader.so.0 is not a symbolic link\n",
            "\n",
            "/sbin/ldconfig.real: /usr/local/lib/libur_adapter_level_zero.so.0 is not a symbolic link\n",
            "\n",
            "/sbin/ldconfig.real: /usr/local/lib/libhwloc.so.15 is not a symbolic link\n",
            "\n",
            "/sbin/ldconfig.real: /usr/local/lib/libumf.so.0 is not a symbolic link\n",
            "\n",
            "/sbin/ldconfig.real: /usr/local/lib/libtbbbind_2_5.so.3 is not a symbolic link\n",
            "\n",
            "/sbin/ldconfig.real: /usr/local/lib/libtbb.so.12 is not a symbolic link\n",
            "\n",
            "/sbin/ldconfig.real: /usr/local/lib/libtbbbind.so.3 is not a symbolic link\n",
            "\n",
            "/sbin/ldconfig.real: /usr/local/lib/libtbbbind_2_0.so.3 is not a symbolic link\n",
            "\n",
            "/sbin/ldconfig.real: /usr/local/lib/libtbbmalloc_proxy.so.2 is not a symbolic link\n",
            "\n",
            "/sbin/ldconfig.real: /usr/local/lib/libtcm.so.1 is not a symbolic link\n",
            "\n",
            "/sbin/ldconfig.real: /usr/local/lib/libur_adapter_opencl.so.0 is not a symbolic link\n",
            "\n",
            "/sbin/ldconfig.real: /usr/local/lib/libtcm_debug.so.1 is not a symbolic link\n",
            "\n",
            "/sbin/ldconfig.real: /usr/local/lib/libtbbmalloc.so.2 is not a symbolic link\n",
            "\n",
            "----------------------------------------------------------------------\n",
            "Libraries have been installed in:\n",
            "   /usr/local/lib\n",
            "\n",
            "If you ever happen to want to link against installed libraries\n",
            "in a given directory, LIBDIR, you must either use libtool, and\n",
            "specify the full pathname of the library, or use the '-LLIBDIR'\n",
            "flag during linking and do at least one of the following:\n",
            "   - add LIBDIR to the 'LD_LIBRARY_PATH' environment variable\n",
            "     during execution\n",
            "   - add LIBDIR to the 'LD_RUN_PATH' environment variable\n",
            "     during linking\n",
            "   - use the '-Wl,-rpath -Wl,LIBDIR' linker flag\n",
            "   - have your system administrator add LIBDIR to '/etc/ld.so.conf'\n",
            "\n",
            "See any operating system documentation about shared libraries for\n",
            "more information, such as the ld(1) and ld.so(8) manual pages.\n",
            "----------------------------------------------------------------------\n",
            "make[3]: Nothing to be done for 'install-data-am'.\n",
            "make[3]: Leaving directory '/content/LHAPDF-6.5.4/src'\n",
            "make[2]: Leaving directory '/content/LHAPDF-6.5.4/src'\n",
            "make[1]: Leaving directory '/content/LHAPDF-6.5.4/src'\n",
            "Making install in include\n",
            "make[1]: Entering directory '/content/LHAPDF-6.5.4/include'\n",
            "Making install in LHAPDF\n",
            "make[2]: Entering directory '/content/LHAPDF-6.5.4/include/LHAPDF'\n",
            "make[3]: Entering directory '/content/LHAPDF-6.5.4/include/LHAPDF'\n",
            "make[3]: Nothing to be done for 'install-exec-am'.\n",
            " /usr/bin/mkdir -p '/usr/local/include/LHAPDF'\n",
            " /usr/bin/install -c -m 644 LHAPDF.h Version.h Info.h Config.h PDFSet.h PDFInfo.h PDF.h GridPDF.h KnotArray.h Utils.h FileIO.h Paths.h Exceptions.h Factories.h PDFIndex.h Reweighting.h Interpolator.h BilinearInterpolator.h BicubicInterpolator.h LogBilinearInterpolator.h LogBicubicInterpolator.h Extrapolator.h ErrExtrapolator.h NearestPointExtrapolator.h ContinuationExtrapolator.h AlphaS.h LHAGlue.h '/usr/local/include/LHAPDF'\n",
            "make[3]: Leaving directory '/content/LHAPDF-6.5.4/include/LHAPDF'\n",
            "make[2]: Leaving directory '/content/LHAPDF-6.5.4/include/LHAPDF'\n",
            "make[2]: Entering directory '/content/LHAPDF-6.5.4/include'\n",
            "make[3]: Entering directory '/content/LHAPDF-6.5.4/include'\n",
            "make[3]: Nothing to be done for 'install-exec-am'.\n",
            "make[3]: Nothing to be done for 'install-data-am'.\n",
            "make[3]: Leaving directory '/content/LHAPDF-6.5.4/include'\n",
            "make[2]: Leaving directory '/content/LHAPDF-6.5.4/include'\n",
            "make[1]: Leaving directory '/content/LHAPDF-6.5.4/include'\n",
            "Making install in wrappers\n",
            "make[1]: Entering directory '/content/LHAPDF-6.5.4/wrappers'\n",
            "Making install in python\n",
            "make[2]: Entering directory '/content/LHAPDF-6.5.4/wrappers/python'\n",
            "CC=\"g++\" CXX=\"g++\" CFLAGS=\"-g -O2\" CXXFLAGS=\"-O3\" CPPFLAGS=\" -I.\" LHAPDF_LOCAL=1 /usr/local/bin/python build.py\n",
            "Build command = g++  -shared -fPIC  -o  lhapdf.so  /content/LHAPDF-6.5.4/wrappers/python/lhapdf.cpp  -I/content/LHAPDF-6.5.4/include -I/content/LHAPDF-6.5.4/include -I/usr/local/include    -O3   -L/content/LHAPDF-6.5.4/src/.libs   -lstdc++ -lLHAPDF  -I/usr/include/python3.11 /usr/lib/python3.11/config-3.11-x86_64-linux-gnu/libpython3.11.so -ldl -lm\n",
            "make[3]: Entering directory '/content/LHAPDF-6.5.4/wrappers/python'\n",
            "/usr/bin/mkdir -p NONE/local/lib/python3.11/dist-packages/ && \\\n",
            "cp -r /content/LHAPDF-6.5.4/wrappers/python/build/lhapdf NONE/local/lib/python3.11/dist-packages/\n",
            "make[3]: Nothing to be done for 'install-data-am'.\n",
            "make[3]: Leaving directory '/content/LHAPDF-6.5.4/wrappers/python'\n",
            "make[2]: Leaving directory '/content/LHAPDF-6.5.4/wrappers/python'\n",
            "make[2]: Entering directory '/content/LHAPDF-6.5.4/wrappers'\n",
            "make[3]: Entering directory '/content/LHAPDF-6.5.4/wrappers'\n",
            "make[3]: Nothing to be done for 'install-exec-am'.\n",
            "make[3]: Nothing to be done for 'install-data-am'.\n",
            "make[3]: Leaving directory '/content/LHAPDF-6.5.4/wrappers'\n",
            "make[2]: Leaving directory '/content/LHAPDF-6.5.4/wrappers'\n",
            "make[1]: Leaving directory '/content/LHAPDF-6.5.4/wrappers'\n",
            "Making install in tests\n",
            "make[1]: Entering directory '/content/LHAPDF-6.5.4/tests'\n",
            "make[2]: Entering directory '/content/LHAPDF-6.5.4/tests'\n",
            "make[2]: Nothing to be done for 'install-exec-am'.\n",
            "make[2]: Nothing to be done for 'install-data-am'.\n",
            "make[2]: Leaving directory '/content/LHAPDF-6.5.4/tests'\n",
            "make[1]: Leaving directory '/content/LHAPDF-6.5.4/tests'\n",
            "Making install in bin\n",
            "make[1]: Entering directory '/content/LHAPDF-6.5.4/bin'\n",
            "make[2]: Entering directory '/content/LHAPDF-6.5.4/bin'\n",
            " /usr/bin/mkdir -p '/usr/local/bin'\n",
            " /usr/bin/install -c lhapdf-config '/usr/local/bin'\n",
            " /usr/bin/mkdir -p '/usr/local/bin'\n",
            " /usr/bin/install -c lhapdf '/usr/local/bin'\n",
            "make[2]: Nothing to be done for 'install-data-am'.\n",
            "make[2]: Leaving directory '/content/LHAPDF-6.5.4/bin'\n",
            "make[1]: Leaving directory '/content/LHAPDF-6.5.4/bin'\n",
            "Making install in examples\n",
            "make[1]: Entering directory '/content/LHAPDF-6.5.4/examples'\n",
            "make[2]: Entering directory '/content/LHAPDF-6.5.4/examples'\n",
            "make[2]: Nothing to be done for 'install-exec-am'.\n",
            " /usr/bin/mkdir -p '/usr/local/share/doc/LHAPDF/examples'\n",
            " /usr/bin/install -c -m 644 testpdf testpdfset analyticpdf compatibility testpdfunc hessian2replicas reweight testpdf.cc testpdfset.cc analyticpdf.cc compatibility.cc testpdfunc.cc hessian2replicas.cc reweight.cc pythonexample.py testpdfunc.py fexample1.f90 fexample2.f90 '/usr/local/share/doc/LHAPDF/examples'\n",
            "make[2]: Leaving directory '/content/LHAPDF-6.5.4/examples'\n",
            "make[1]: Leaving directory '/content/LHAPDF-6.5.4/examples'\n",
            "Making install in doc\n",
            "make[1]: Entering directory '/content/LHAPDF-6.5.4/doc'\n",
            "make[2]: Entering directory '/content/LHAPDF-6.5.4/doc'\n",
            "make[2]: Nothing to be done for 'install-exec-am'.\n",
            "make[2]: Nothing to be done for 'install-data-am'.\n",
            "make[2]: Leaving directory '/content/LHAPDF-6.5.4/doc'\n",
            "make[1]: Leaving directory '/content/LHAPDF-6.5.4/doc'\n",
            "make[1]: Entering directory '/content/LHAPDF-6.5.4'\n",
            "make[2]: Entering directory '/content/LHAPDF-6.5.4'\n",
            "make[2]: Nothing to be done for 'install-exec-am'.\n",
            " /usr/bin/mkdir -p '/usr/local/lib/pkgconfig'\n",
            " /usr/bin/install -c -m 644 lhapdf.pc '/usr/local/lib/pkgconfig'\n",
            " /usr/bin/mkdir -p '/usr/local/share/LHAPDF'\n",
            " /usr/bin/install -c -m 644 lhapdf.conf pdfsets.index '/usr/local/share/LHAPDF'\n",
            "make  install-data-hook\n",
            "make[3]: Entering directory '/content/LHAPDF-6.5.4'\n",
            "test -e /usr/local/share/LHAPDF/sets && rmdir /usr/local/share/LHAPDF/sets || true\n",
            "make[3]: Leaving directory '/content/LHAPDF-6.5.4'\n",
            "make[2]: Leaving directory '/content/LHAPDF-6.5.4'\n",
            "make[1]: Leaving directory '/content/LHAPDF-6.5.4'\n",
            "make: Leaving directory '/content/LHAPDF-6.5.4'\n",
            "pdfsets.index:    45.7 KB[100.0%] \n"
          ]
        }
      ]
    },
    {
      "cell_type": "code",
      "source": [
        "import lhapdf\n",
        "import numpy as np\n",
        "import matplotlib.pyplot as plt\n",
        "import pandas as pd"
      ],
      "metadata": {
        "id": "XlWUR4mVkj6t"
      },
      "execution_count": 2,
      "outputs": []
    },
    {
      "cell_type": "markdown",
      "source": [
        "Install specific PDF set (CTEQ6L1) and FF set (MAPFF for pion)"
      ],
      "metadata": {
        "id": "TqI1ZMcrjwwV"
      }
    },
    {
      "cell_type": "code",
      "source": [
        "!lhapdf install cteq6l1"
      ],
      "metadata": {
        "colab": {
          "base_uri": "https://localhost:8080/"
        },
        "id": "m_FIRpcgkLwe",
        "outputId": "8901e267-04b1-4ac0-d042-2781d9681f7c"
      },
      "execution_count": 3,
      "outputs": [
        {
          "output_type": "stream",
          "name": "stdout",
          "text": [
            "cteq6l1.tar.gz:   310.4 KB[100.0%] \n"
          ]
        }
      ]
    },
    {
      "cell_type": "code",
      "source": [
        "# call the central number (0) of CTEQ6L1\n",
        "p = lhapdf.mkPDF(\"cteq6l1/0\")\n",
        "\n",
        "# let us look at the flavors, they follow convention of particle data group\n",
        "# d = 1, u = 2, s = 3, c = 4, b = 5, g = 21\n",
        "print('flavor:', p.flavors())\n",
        "# lhapdf gives by default - xfxQ2: x * f(x, Q^2)\n",
        "#                      or - xfxQ:  x * f(x, Q)\n",
        "\n",
        "q = 2.0\n",
        "xx = np.geomspace(0.01, 1)\n",
        "gg = [p.xfxQ(0, x, q) for x in xx]\n",
        "dd = [p.xfxQ(1, x, q) for x in xx]\n",
        "uu = [p.xfxQ(2, x, q) for x in xx]\n",
        "ss = [p.xfxQ(3, x, q) for x in xx]\n",
        "\n",
        "plt.figure(figsize=(4, 4))\n",
        "plt.plot(xx, gg, 'red', label='')\n",
        "plt.plot(xx, uu, 'green', label='')\n",
        "plt.plot(xx, dd, 'blue', label='')\n",
        "plt.plot(xx, ss, 'magenta', label='')\n",
        "plt.title(f'Q = {q} GeV')\n",
        "plt.xlabel('')\n",
        "plt.ylabel('')\n",
        "plt.legend()\n",
        "plt.grid()\n",
        "plt.ylim(0, 1)\n",
        "plt.show()\n",
        "plt.close()"
      ],
      "metadata": {
        "colab": {
          "base_uri": "https://localhost:8080/",
          "height": 463
        },
        "id": "U1r2mqrBkY1H",
        "outputId": "a98ae84d-872b-4bab-8f9a-09f7ec6d78ec"
      },
      "execution_count": 28,
      "outputs": [
        {
          "output_type": "stream",
          "name": "stdout",
          "text": [
            "flavor: [-5, -4, -3, -2, -1, 1, 2, 3, 4, 5, 21]\n"
          ]
        },
        {
          "output_type": "stream",
          "name": "stderr",
          "text": [
            "<ipython-input-28-a77e5b85a129>:25: UserWarning: No artists with labels found to put in legend.  Note that artists whose label start with an underscore are ignored when legend() is called with no argument.\n",
            "  plt.legend()\n"
          ]
        },
        {
          "output_type": "display_data",
          "data": {
            "text/plain": [
              "<Figure size 400x400 with 1 Axes>"
            ],
            "image/png": "[encoded data removed]"
          },
          "metadata": {}
        }
      ]
    },
    {
      "cell_type": "markdown",
      "source": [
        "### FFs: MAP pion fragmentation function at leading-order\n",
        "\n",
        "In their convention, pisum = $\\pi^{+} + \\pi^{-}$. From isospin symmetry, we have $\\pi^0 = (\\pi^{+} + \\pi^{-})/2$. This is why we divide it by 2."
      ],
      "metadata": {
        "id": "Bh91paXklz8H"
      }
    },
    {
      "cell_type": "code",
      "source": [
        "!lhapdf install MAPFF10NLOPIsum"
      ],
      "metadata": {
        "colab": {
          "base_uri": "https://localhost:8080/"
        },
        "id": "x0RAA7cEkT2c",
        "outputId": "6659a740-4bce-45b1-919a-a21a884dfec9"
      },
      "execution_count": 5,
      "outputs": [
        {
          "output_type": "stream",
          "name": "stdout",
          "text": [
            "MAPFF10NLOPIsum.tar.gz:    65.9 MB[100.0%] \n"
          ]
        }
      ]
    },
    {
      "cell_type": "code",
      "source": [
        "pisum = lhapdf.mkPDF(\"MAPFF10NLOPIsum/0\")\n",
        "pisum.flavors()\n",
        "\n",
        "x = 0.3\n",
        "Q = 10.0\n",
        "bbf= pisum.xfxQ(-5, x, Q)/2.0\n",
        "cbf= pisum.xfxQ(-4, x, Q)/2.0\n",
        "sbf= pisum.xfxQ(-3, x, Q)/2.0\n",
        "ubf= pisum.xfxQ(-2, x, Q)/2.0\n",
        "dbf= pisum.xfxQ(-1, x, Q)/2.0\n",
        "df = pisum.xfxQ(1, x, Q)/2.0\n",
        "uf = pisum.xfxQ(2, x, Q)/2.0\n",
        "sf = pisum.xfxQ(3, x, Q)/2.0\n",
        "cf = pisum.xfxQ(4, x, Q)/2.0\n",
        "bf = pisum.xfxQ(5, x, Q)/2.0\n",
        "gf = pisum.xfxQ(21, x, Q)/2.0\n",
        "print('%0.2e, %0.2e, %0.2e, %0.2e, %0.2e' %(bbf,cbf,sbf,ubf,dbf))\n",
        "print('%0.2e, %0.2e, %0.2e, %0.2e, %0.2e, %0.2e' %(df,uf,sf,cf,bf,gf))"
      ],
      "metadata": {
        "colab": {
          "base_uri": "https://localhost:8080/"
        },
        "id": "AR1Hu9VgkZnn",
        "outputId": "ccd5104b-d6e7-4974-914e-41d6d91ca670"
      },
      "execution_count": 6,
      "outputs": [
        {
          "output_type": "stream",
          "name": "stdout",
          "text": [
            "1.13e-01, 2.55e-01, 2.73e-01, 2.39e-01, 2.06e-01\n",
            "2.06e-01, 2.39e-01, 2.73e-01, 2.55e-01, 1.13e-01, 1.19e-01\n"
          ]
        }
      ]
    },
    {
      "cell_type": "markdown",
      "source": [
        "### For more convenient use below, I will define PDF and FF function"
      ],
      "metadata": {
        "id": "MiTV3jrgkZkS"
      }
    },
    {
      "cell_type": "code",
      "source": [
        "# construct light flavor PDFs and FFs\n",
        "# note: for now, we only need PDFs and FFs of quarks\n",
        "def PDF(x, Q):\n",
        "\n",
        "    u = p.xfxQ(2, x, Q)/x\n",
        "    d = p.xfxQ(1, x, Q)/x\n",
        "    ub= p.xfxQ(-2, x, Q)/x\n",
        "    db= p.xfxQ(-1, x, Q)/x\n",
        "    s = p.xfxQ(3, x, Q)/x\n",
        "    g = p.xfxQ(21, x, Q)/x\n",
        "\n",
        "    return u,d,ub,db,s,g\n",
        "\n",
        "def FF(hh, x, Q):\n",
        "    fu = hh.xfxQ(2, x, Q)/x/2.0\n",
        "    fub= hh.xfxQ(-2, x, Q)/x/2.0\n",
        "    fd = hh.xfxQ(1, x, Q)/x/2.0\n",
        "    fdb= hh.xfxQ(-1, x, Q)/x/2.0\n",
        "    fs = hh.xfxQ(3, x, Q)/x/2.0\n",
        "    fsb= hh.xfxQ(-3, x, Q)/x/2.0\n",
        "    fg = hh.xfxQ(21, x, Q)/x/2.0\n",
        "\n",
        "    return fu,fub,fd,fdb,fs,fsb,fg"
      ],
      "metadata": {
        "id": "0ylK_CPSkZgu"
      },
      "execution_count": 7,
      "outputs": []
    },
    {
      "cell_type": "markdown",
      "source": [
        "I also need VEGAS Monte Carlo integration routine"
      ],
      "metadata": {
        "id": "1tPSMwwAmBPT"
      }
    },
    {
      "cell_type": "code",
      "source": [
        "!pip install vegas"
      ],
      "metadata": {
        "colab": {
          "base_uri": "https://localhost:8080/"
        },
        "id": "aPNAm9PomJn7",
        "outputId": "4590cdc6-5e1a-4be8-a0a0-25b10c5f629d"
      },
      "execution_count": 8,
      "outputs": [
        {
          "output_type": "stream",
          "name": "stdout",
          "text": [
            "Collecting vegas\n",
            "  Downloading vegas-6.3-cp311-cp311-manylinux_2_17_x86_64.manylinux2014_x86_64.whl.metadata (1.9 kB)\n",
            "Requirement already satisfied: numpy>=1.24 in /usr/local/lib/python3.11/dist-packages (from vegas) (2.0.2)\n",
            "Collecting gvar>=13.1.5 (from vegas)\n",
            "  Downloading gvar-13.1.6-cp311-cp311-manylinux_2_17_x86_64.manylinux2014_x86_64.whl.metadata (2.0 kB)\n",
            "Requirement already satisfied: scipy>=1.11 in /usr/local/lib/python3.11/dist-packages (from gvar>=13.1.5->vegas) (1.15.3)\n",
            "Downloading vegas-6.3-cp311-cp311-manylinux_2_17_x86_64.manylinux2014_x86_64.whl (4.1 MB)\n",
            "\u001b[2K   \u001b[90m━━━━━━━━━━━━━━━━━━━━━━━━━━━━━━━━━━━━━━━━\u001b[0m \u001b[32m4.1/4.1 MB\u001b[0m \u001b[31m73.9 MB/s\u001b[0m eta \u001b[36m0:00:00\u001b[0m\n",
            "\u001b[?25hDownloading gvar-13.1.6-cp311-cp311-manylinux_2_17_x86_64.manylinux2014_x86_64.whl (7.6 MB)\n",
            "\u001b[2K   \u001b[90m━━━━━━━━━━━━━━━━━━━━━━━━━━━━━━━━━━━━━━━━\u001b[0m \u001b[32m7.6/7.6 MB\u001b[0m \u001b[31m32.9 MB/s\u001b[0m eta \u001b[36m0:00:00\u001b[0m\n",
            "\u001b[?25hInstalling collected packages: gvar, vegas\n",
            "Successfully installed gvar-13.1.6 vegas-6.3\n"
          ]
        }
      ]
    },
    {
      "cell_type": "markdown",
      "source": [
        "### Strong coupling constant\n",
        "\n",
        "At leading order, strong coupling constant $\\alpha_s$ runs through the following equation\n",
        "\\begin{align}\n",
        "\\alpha_s(Q) = \\frac{4\\pi}{\\beta_0 \\ln\\left(Q^2/\\Lambda_{\\rm QCD}^2(n_f)\\right)}\\,,\n",
        "\\end{align}\n",
        "where $\\beta_0 = 11 - 2/3 n_f$ with $n_f$ the active flavor of quarks. $\\Lambda_{\\rm QCD}$ in general also depends on $n_f$. Here the values is quoted from CTEQ6L1."
      ],
      "metadata": {
        "id": "oxjpmSqdmO5M"
      }
    },
    {
      "cell_type": "code",
      "source": [
        "def alpha(Q):\n",
        "    mb = 4.5\n",
        "    if(Q <= mb):\n",
        "        nf = 4\n",
        "        lam_QCD = 0.215\n",
        "    else:\n",
        "        nf = 5\n",
        "        lam_QCD = 0.165\n",
        "\n",
        "    b0 = 11.0 - 2.0/3.0*nf\n",
        "    tt = 2.0*np.log(Q/lam_QCD)\n",
        "    return 4.0*np.pi/(b0*tt)"
      ],
      "metadata": {
        "id": "XUdbL8Egma8l"
      },
      "execution_count": 9,
      "outputs": []
    },
    {
      "cell_type": "markdown",
      "source": [
        "Plot the strong coupling as a function of $Q$"
      ],
      "metadata": {
        "id": "ARNO9UW7o6uv"
      }
    },
    {
      "cell_type": "code",
      "source": [
        "# Q values:\n",
        "Q_vals = np.logspace(0, 2, 1000)  # From 10^0=1 to 10^2=100\n",
        "alpha_vals = [alpha(Q) for Q in Q_vals]\n",
        "\n",
        "# Plotting\n",
        "plt.figure(figsize=(4, 4))\n",
        "plt.plot(Q_vals, alpha_vals, label=r'$\\alpha(Q)$')\n",
        "plt.xscale(\"log\")  # Set x-axis to logarithmic scale\n",
        "plt.xlabel(r'$Q$ [GeV]')\n",
        "plt.ylabel(r'$\\alpha(Q)$')\n",
        "plt.title('Running coupling constant α(Q) with log-scaled Q')\n",
        "plt.grid(True, which='both', linestyle='--', linewidth=0.5)\n",
        "plt.legend()\n",
        "plt.tight_layout()\n",
        "plt.show()"
      ],
      "metadata": {
        "id": "i4twgJLMo_es",
        "outputId": "55ed4f0f-1dd2-4fcd-bb50-63bd3b3ebffc",
        "colab": {
          "base_uri": "https://localhost:8080/",
          "height": 407
        }
      },
      "execution_count": 27,
      "outputs": [
        {
          "output_type": "display_data",
          "data": {
            "text/plain": [
              "<Figure size 400x400 with 1 Axes>"
            ],
            "image/png": "[encoded data removed]"
          },
          "metadata": {}
        }
      ]
    },
    {
      "cell_type": "markdown",
      "source": [
        "### Partonic cross section\n",
        "\n",
        "These are $H_{ab\\to c}(\\hat{s}, \\hat{t}, \\hat{u})$ given above."
      ],
      "metadata": {
        "id": "LhRjGDDTmeWe"
      }
    },
    {
      "cell_type": "code",
      "source": [
        "def Upp(s, t, u):\n",
        "    Nc = 3.0\n",
        "#   qq' --> qq'\n",
        "    WQ1=(Nc**2-1.0)/(2.0*Nc**2)*(s*s+u*u)/(t*t)\n",
        "#   qq  ->qq\n",
        "    WQ2=(Nc**2-1.0)/(2.0*Nc**2)*( (s*s+u*u)/(t*t)+(s*s+t*t)/(u*u) ) \\\n",
        "         -(Nc**2-1.0)/(Nc**3)*(s*s)/(t*u)\n",
        "#   qqb ->q'qb'\n",
        "    WQ3=(Nc**2-1.0)/(2.0*Nc**2)*(t*t+u*u)/(s*s)\n",
        "#   qqb ->qqb\n",
        "    WQ4=(Nc**2-1.0)/(2.0*Nc**2)*( (s*s+u*u)/(t*t)+(t*t+u*u)/(s*s) ) \\\n",
        "        -(Nc**2-1.0)/(Nc**3)*(u*u)/(s*t)\n",
        "#   qqb ->gg\n",
        "    WQ5=(Nc**2-1.0)**2/(2.0*Nc**3)*(u/t+t/u) \\\n",
        "    -(Nc**2-1.0)/Nc*(t*t+u*u)/(s*s)\n",
        "#   gg  ->qqb\n",
        "    WQ6=1.0/(2.0*Nc)*(t/u+u/t)-Nc/(Nc**2-1.0)*(t*t+u*u)/(s*s)\n",
        "#   qg  ->qg\n",
        "    WQ7=(Nc**2-1.0)/(2.0*Nc**2)*(-s/u-u/s)+(s*s+u*u)/(t*t)\n",
        "#   gg  ->gg\n",
        "    WQ8=4.0*Nc**2/(Nc**2-1.0)*(3.0-t*u/(s*s)-s*u/(t*t)-s*t/(u*u))\n",
        "\n",
        "    return WQ1, WQ2, WQ3, WQ4, WQ5, WQ6, WQ7, WQ8"
      ],
      "metadata": {
        "id": "nxSOjCgTmeL-"
      },
      "execution_count": 12,
      "outputs": []
    },
    {
      "cell_type": "markdown",
      "source": [
        "### Below is the differential cross section\n",
        "\n",
        "1. Since the theory formula has a delta-function $\\delta\\left(\\hat{s} + \\hat{t} + \\hat{u}\\right)$, one can use it to integrate out the variable $x_b$.\n",
        "\n",
        "2. Then we will have integration over $x_a$ and $z_c$.\n",
        "\n",
        "3. If the experiment further measures the cross section for a specific range of rapidity $y$ and transverse momentum $p_T$, we have to integrate over those ranges.\n",
        "\n",
        "4. We also have to choose the factorization scale $\\mu$ over there. In the program below, this $\\mu$ is called `scale`. Usually, we choose `scale` to be the typical hard scale of the process. In our situation, this should be transverse momentum of the pion.\n",
        "\n",
        "5. This is why we write the cross section as a function of $x_a, \\, z_c, \\, y, \\, p_T$ and `scale`.\n",
        "\n",
        "6. There are so many partonic channels you have to sum over. This is the $\\sum_{a,b,c}$ in the theory formula given above."
      ],
      "metadata": {
        "id": "6Z0Flqkbml4P"
      }
    },
    {
      "cell_type": "code",
      "source": [
        "def sigma(xa, zc, y, roots, pT, scale):\n",
        "    roots2 = roots**2\n",
        "    AA=xa*roots2-pT/zc*roots*np.exp(y)\n",
        "    BB=xa*pT/zc*roots*np.exp(-y)\n",
        "    xb=BB/AA\n",
        "\n",
        "    sh=xa*xb*roots2\n",
        "    uh=-pT/zc*xb*roots*np.exp(y)\n",
        "    th=-pT/zc*xa*roots*np.exp(-y)\n",
        "\n",
        "    if(xa < 1. and xa > 0. and xb < 1. and xb > 0. and zc < 1. and zc > 0.):\n",
        "        U1,D1,UB1,DB1,S1,GL1 = PDF(xa, scale)\n",
        "        U2,D2,UB2,DB2,S2,GL2 = PDF(xb, scale)\n",
        "        fu,fub,fd,fdb,fs,fsb,fg = FF(pisum, zc, scale)\n",
        "        WQ1,WQ2,WQ3,WQ4,WQ5,WQ6,WQ7,WQ8 = Upp(sh,th,uh)\n",
        "        WT1,WT2,WT3,WT4,WT5,WT6,WT7,WT8 = Upp(sh,uh,th)\n",
        "\n",
        "        SIG1=WQ2*(U1*U2*fu+UB1*UB2*fub+D1*D2*fd+DB1*DB2*fdb+S1*S2*fs+S1*S2*fsb) \\\n",
        "            +WQ3*(U1*UB2*(fd+fs)+D1*DB2*(fu+fs)+S1*S2*(fu+fd) \\\n",
        "            +UB1*U2*(fdb+fsb)+DB1*D2*(fub+fsb)+S1*S2*(fub+fdb)) \\\n",
        "            +WT3*(UB1*U2*(fd+fs)+DB1*D2*(fu+fs)+S1*S2*(fu+fd) \\\n",
        "            +U1*UB2*(fdb+fsb)+D1*DB2*(fub+fsb)+S1*S2*(fub+fdb))\n",
        "\n",
        "        SIG2=WQ4*(U1*UB2*fu+D1*DB2*fd+S1*S2*fs+UB1*U2*fub+DB1*D2*fdb+S1*S2*fsb) \\\n",
        "            +WT4*(UB1*U2*fu+DB1*D2*fd+S1*S2*fs+U1*UB2*fub+D1*DB2*fdb+S1*S2*fsb) \\\n",
        "            +WQ1*(U1*(D2+DB2+S2+S2)*fu+D1*(U2+UB2+S2+S2)*fd+UB1*(D2+DB2+S2+S2)*fub \\\n",
        "            +DB1*(U2+UB2+S2+S2)*fdb+S1*(U2+UB2+D2+DB2)*fs+S1*(U2+UB2+D2+DB2)*fsb)\n",
        "\n",
        "        SIG3=WT1*((D1+DB1+S1+S1)*U2*fu+(U1+UB1+S1+S1)*D2*fd \\\n",
        "            +(D1+DB1+S1+S1)*UB2*fub+(U1+UB1+S1+S1)*DB2*fdb \\\n",
        "            +(U1+UB1+D1+DB1)*S2*fs+(U1+UB1+D1+DB1)*S2*fsb) \\\n",
        "            +WQ5*(U1*UB2+D1*DB2+S1*S2)*fg+WT5*(UB1*U2+DB1*D2+S1*S2)*fg\n",
        "\n",
        "        SIG4=WQ6*GL1*GL2*(fu+fd+fs)+WT6*GL1*GL2*(fub+fdb+fsb) \\\n",
        "            +WQ7*(GL2*(U1*fu+D1*fd+S1*fs+UB1*fub+DB1*fdb+S1*fsb) \\\n",
        "            +GL1*fg*(U2+UB2+D2+DB2+S2+S2)) \\\n",
        "            +WT7*(GL1*(U2*fu+D2*fd+S2*fs+UB2*fub+DB2*fdb+S2*fsb) \\\n",
        "            +GL2*fg*(U1+UB1+D1+DB1+S1+S1)) \\\n",
        "            +WQ8*GL1*GL2*fg\n",
        "\n",
        "        SIG=SIG1+SIG2+SIG3+SIG4\n",
        "\n",
        "        sigma = 1./xa/(zc*zc)/BB*SIG*alpha(scale)**2/roots2\n",
        "    else:\n",
        "        sigma = 0.\n",
        "\n",
        "    return sigma"
      ],
      "metadata": {
        "id": "g54arOJ6ml1V"
      },
      "execution_count": 13,
      "outputs": []
    },
    {
      "cell_type": "markdown",
      "source": [
        "### Let us now set up the vegas integration\n",
        "\n",
        "1. We will generate the differential cross section as a function of transverse momentum $p_T$, so we integrate over $x_a, \\, z_c, \\, y$.\n",
        "\n",
        "2. We will compare with data from PHENIX collaboration at RHIC, which integrate over $-0.35 < y < 0.35$. They defined as a normalized rapidity distribution, this is why we divide by the rapidity interval $dY = y_{\\rm max} - y_{\\rm min} = 0.7$."
      ],
      "metadata": {
        "id": "Pzn_azDAmlTL"
      }
    },
    {
      "cell_type": "code",
      "source": [
        "import vegas"
      ],
      "metadata": {
        "id": "6KW_c1tcn6gB"
      },
      "execution_count": 14,
      "outputs": []
    },
    {
      "cell_type": "code",
      "source": [
        "def dist_vegas(roots, pT, scale):\n",
        "    convert = 0.389\n",
        "    def cross_before(val):\n",
        "        xa = val[0]\n",
        "        zc = val[1]\n",
        "        y  = val[2]\n",
        "        return sigma(xa, zc, y, roots, pT, scale)\n",
        "\n",
        "    ymin = -0.35; ymax = 0.35; dY = ymax - ymin\n",
        "    integ = vegas.Integrator([[0, 1], [0, 1], [ymin, ymax]])\n",
        "    result = integ(cross_before, nitn=10, neval=10000)\n",
        "    return convert/dY*result.mean"
      ],
      "metadata": {
        "id": "X5w2B_lnmlOT"
      },
      "execution_count": 15,
      "outputs": []
    },
    {
      "cell_type": "markdown",
      "source": [
        "### Computing"
      ],
      "metadata": {
        "id": "79X6l1SNnB0D"
      }
    },
    {
      "cell_type": "code",
      "source": [
        "roots = 200.\n",
        "pT_a = [1.5, 2.5, 3.5, 4.5, 5.5, 6.5, 7.5, 8.5, 9.5, 10.5, 11.5, 12.5, 13.5, 14.5, 15.5, 16.5, 17.5, 18.5, 19.5]\n",
        "num0 = len(pT_a)\n",
        "cross = [0.]*num0\n",
        "for i in range(num0):\n",
        "    pT = pT_a[i]\n",
        "    scale = pT\n",
        "    cross[i] = dist_vegas(roots, pT, scale)\n",
        "    print('%0.3e\\t %0.3e' %(pT, cross[i]))"
      ],
      "metadata": {
        "colab": {
          "base_uri": "https://localhost:8080/"
        },
        "id": "qTRoVpOenDyf",
        "outputId": "a0072c43-6f71-47e6-c987-15e000d63c1a"
      },
      "execution_count": 16,
      "outputs": [
        {
          "output_type": "stream",
          "name": "stdout",
          "text": [
            "1.500e+00\t 7.821e-02\n",
            "2.500e+00\t 2.997e-03\n",
            "3.500e+00\t 2.906e-04\n",
            "4.500e+00\t 4.708e-05\n",
            "5.500e+00\t 1.057e-05\n",
            "6.500e+00\t 2.932e-06\n",
            "7.500e+00\t 9.544e-07\n",
            "8.500e+00\t 3.499e-07\n",
            "9.500e+00\t 1.409e-07\n",
            "1.050e+01\t 6.126e-08\n",
            "1.150e+01\t 2.829e-08\n",
            "1.250e+01\t 1.376e-08\n",
            "1.350e+01\t 7.012e-09\n",
            "1.450e+01\t 3.691e-09\n",
            "1.550e+01\t 2.013e-09\n",
            "1.650e+01\t 1.127e-09\n",
            "1.750e+01\t 6.487e-10\n",
            "1.850e+01\t 3.804e-10\n",
            "1.950e+01\t 2.280e-10\n"
          ]
        }
      ]
    },
    {
      "cell_type": "markdown",
      "source": [
        "### Get ready for plots\n",
        "\n",
        "1. Set plot features, e.g. font, font size, etc.\n",
        "\n",
        "2. Plot both theory and experimental data"
      ],
      "metadata": {
        "id": "ovDF0oqanHEh"
      }
    },
    {
      "cell_type": "code",
      "source": [
        "# Explicit data from PHENIX collaboration at RHIC\n",
        "pT = np.array([\n",
        "    0.616, 0.866, 1.215, 1.719, 2.223, 2.725, 3.228, 3.730, 4.231, 4.732,\n",
        "    5.234, 5.735, 6.237, 6.738, 7.238, 7.739, 8.240, 8.740, 9.241, 9.741,\n",
        "    10.880, 12.900, 14.910, 16.920, 18.930\n",
        "])\n",
        "cross_section = np.array([\n",
        "    5.953e+00, 1.783e+00, 3.960e-01, 6.148e-02, 1.300e-02, 3.285e-03, 9.786e-04, 3.280e-04, 1.190e-04, 4.887e-05,\n",
        "    2.164e-05, 1.038e-05, 5.191e-06, 2.748e-06, 1.564e-06, 9.132e-07, 5.453e-07, 3.474e-07, 2.135e-07, 1.332e-07,\n",
        "    5.916e-08, 1.494e-08, 3.699e-09, 1.248e-09, 5.470e-10\n",
        "])\n",
        "stat_error = np.array([\n",
        "    3.075e-03, 9.725e-04, 2.780e-04, 6.855e-05, 2.453e-05, 1.028e-05, 4.934e-06, 2.547e-06, 2.236e-07, 1.329e-07,\n",
        "    8.269e-08, 5.426e-08, 3.646e-08, 2.542e-08, 1.826e-08, 1.340e-08, 9.973e-09, 7.586e-09, 5.801e-09, 4.511e-09,\n",
        "    1.433e-09, 6.880e-10, 3.018e-10, 1.652e-10, 1.142e-10\n",
        "])\n",
        "syst_error = np.array([\n",
        "    7.516e-01, 1.299e-01, 2.713e-02, 4.562e-03, 1.026e-03, 2.689e-04, 8.193e-05, 2.786e-05, 1.094e-05, 4.518e-06,\n",
        "    2.011e-06, 9.687e-07, 4.863e-07, 2.585e-07, 1.479e-07, 8.683e-08, 5.216e-08, 3.348e-08, 2.067e-08, 1.296e-08,\n",
        "    6.023e-09, 1.661e-09, 4.493e-10, 1.736e-10, 8.630e-11\n",
        "])"
      ],
      "metadata": {
        "id": "PolMSzweqhp8"
      },
      "execution_count": 21,
      "outputs": []
    },
    {
      "cell_type": "code",
      "source": [
        "# set the font globally\n",
        "# by default, I typically use font \"Times New Roman\".\n",
        "# However, usually at Linux, such a font is not available (unless you install).\n",
        "# so you need to use an alternative version that is very close to Times New Roman.\n",
        "# such a font exists at Linux, it is \"Liberation Serif\".\n",
        "# So if I am using it at Mac, you will see I am using \"Times New Roman\"; at Linux, I am using \"Liberation Serif\".\n",
        "plt.rcParams.update({'font.family':'Liberation Serif', 'mathtext.fontset':'stix', 'mathtext.default':'rm', 'font.size':18, 'lines.linewidth': 2})"
      ],
      "metadata": {
        "id": "nUXUjdRqnVA4"
      },
      "execution_count": null,
      "outputs": []
    },
    {
      "cell_type": "code",
      "source": [
        "# experimental data, to compare with theory\n",
        "num2 = len(pT)\n",
        "yerr = [0.]*num2\n",
        "for i in range(num2):\n",
        "    yerr[i] = np.sqrt(stat_error[i]**2+syst_error[i]**2)\n",
        "    print('%0.3e\\t %0.3e\\t %0.3e' %(pT[i], cross_section[i], yerr[i]))\n",
        "\n",
        "plt.figure(figsize=(4, 4))\n",
        "plt.yscale('log')\n",
        "plt.tick_params(axis='both', which='both', direction='in')\n",
        "plt.xlabel('$p_T$ (GeV)')\n",
        "plt.ylabel('$d\\sigma/dyd^2p_T$ ($mb\\cdot GeV^{-2}$)')\n",
        "plt.xlim(0,20)\n",
        "plt.ylim(1.1e-10,1e2)\n",
        "\n",
        "# plot experimental data points\n",
        "plt.errorbar(pT, cross_section, yerr = yerr, fmt = 'ro', label='$\\pi^0$ PHENIX', capsize=3, markersize = 6)\n",
        "\n",
        "# plot theory as curve\n",
        "plt.plot(pT_a, cross, 'b-')\n",
        "\n",
        "plt.legend(frameon=False)\n",
        "plt.text(10, 0.05, '$\\sqrt{s} = 200$ GeV \\n |y| < 0.35')\n",
        "plt.savefig('RHIC_pp.pdf', bbox_inches='tight')\n",
        "plt.show()"
      ],
      "metadata": {
        "colab": {
          "base_uri": "https://localhost:8080/",
          "height": 829
        },
        "id": "ERe-xaXlnZiM",
        "outputId": "3b8463ec-f834-47b9-9de2-8c9f39720178"
      },
      "execution_count": 29,
      "outputs": [
        {
          "output_type": "stream",
          "name": "stdout",
          "text": [
            "6.160e-01\t 5.953e+00\t 7.516e-01\n",
            "8.660e-01\t 1.783e+00\t 1.299e-01\n",
            "1.215e+00\t 3.960e-01\t 2.713e-02\n",
            "1.719e+00\t 6.148e-02\t 4.563e-03\n",
            "2.223e+00\t 1.300e-02\t 1.026e-03\n",
            "2.725e+00\t 3.285e-03\t 2.691e-04\n",
            "3.228e+00\t 9.786e-04\t 8.208e-05\n",
            "3.730e+00\t 3.280e-04\t 2.798e-05\n",
            "4.231e+00\t 1.190e-04\t 1.094e-05\n",
            "4.732e+00\t 4.887e-05\t 4.520e-06\n",
            "5.234e+00\t 2.164e-05\t 2.013e-06\n",
            "5.735e+00\t 1.038e-05\t 9.702e-07\n",
            "6.237e+00\t 5.191e-06\t 4.877e-07\n",
            "6.738e+00\t 2.748e-06\t 2.597e-07\n",
            "7.238e+00\t 1.564e-06\t 1.490e-07\n",
            "7.739e+00\t 9.132e-07\t 8.786e-08\n",
            "8.240e+00\t 5.453e-07\t 5.310e-08\n",
            "8.740e+00\t 3.474e-07\t 3.433e-08\n",
            "9.241e+00\t 2.135e-07\t 2.147e-08\n",
            "9.741e+00\t 1.332e-07\t 1.372e-08\n",
            "1.088e+01\t 5.916e-08\t 6.191e-09\n",
            "1.290e+01\t 1.494e-08\t 1.798e-09\n",
            "1.491e+01\t 3.699e-09\t 5.413e-10\n",
            "1.692e+01\t 1.248e-09\t 2.396e-10\n",
            "1.893e+01\t 5.470e-10\t 1.431e-10\n"
          ]
        },
        {
          "output_type": "display_data",
          "data": {
            "text/plain": [
              "<Figure size 400x400 with 1 Axes>"
            ],
            "image/png": "[encoded data removed]"
          },
          "metadata": {}
        }
      ]
    },
    {
      "cell_type": "code",
      "source": [],
      "metadata": {
        "id": "DJh8U0eOrxSs"
      },
      "execution_count": null,
      "outputs": []
    }
  ]
}